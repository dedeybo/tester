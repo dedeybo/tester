{
  "nbformat": 4,
  "nbformat_minor": 0,
  "metadata": {
    "colab": {
      "name": "location unknown.ipynb",
      "provenance": [],
      "collapsed_sections": []
    },
    "kernelspec": {
      "name": "python3",
      "display_name": "Python 3"
    },
    "language_info": {
      "name": "python"
    },
    "accelerator": "GPU"
  },
  "cells": [
    {
      "cell_type": "code",
      "metadata": {
        "id": "20h5oFV7HXI_"
      },
      "source": [
        "! nvidia-smi -L"
      ],
      "execution_count": null,
      "outputs": []
    },
    {
      "cell_type": "code",
      "metadata": {
        "id": "vzt7mtlXQCFJ",
        "cellView": "form"
      },
      "source": [
        "#@title RUNNER\n",
        "import tensorflow as tf\n",
        "from IPython.display import clear_output\n",
        "import time\n",
        "import timeit\n",
        "from random import randrange\n",
        "from os import system, name\n",
        "from time import sleep\n",
        "from tensorflow.python.client import device_lib\n",
        "import json\n",
        "from IPython.display import clear_output\n",
        "#tf.debugging.set_log_device_placement(True)\n",
        "import requests\n",
        "\n",
        "# Create some tensors\n",
        "a = tf.constant([[1.0, 2.0, 3.0], [4.0, 5.0, 6.0]])\n",
        "b = tf.constant([[1.0, 2.0], [3.0, 4.0], [5.0, 6.0]])\n",
        "c = tf.matmul(a, b)\n",
        "\n",
        "def name_device():\n",
        "    depais = device_lib.list_local_devices()\n",
        "    desc_dumps = json.dumps(depais[1].physical_device_desc, sort_keys=True, indent=4)\n",
        "    desc_loads = json.loads(desc_dumps)\n",
        "    split_desc = desc_loads.split(', ')\n",
        "    split_tesla = split_desc[1].split(' ')\n",
        "    name_device = split_tesla[2]\n",
        "    return name_device\n",
        "\n",
        "def gpu():\n",
        "  with tf.device('/device:GPU:0'):\n",
        "    random_image_gpu = tf.random.normal((100, 100, 100, 3))\n",
        "    net_gpu = tf.keras.layers.Conv2D(32, 7)(random_image_gpu)\n",
        "    return tf.math.reduce_sum(net_gpu)\n",
        "\n",
        "def zero_to_infinity():\n",
        "    i = 0\n",
        "    while True:\n",
        "        yield i\n",
        "        i += 1\n",
        "        time.sleep(1)\n",
        "start = time.time()\n",
        "gpu_time = timeit.timeit('gpu()', number=10, setup=\"from __main__ import gpu\")\n",
        "rand_num = randrange(10000, 99999, 5)\n",
        "gpu_name = \"{0}-{1}\".format(name_device(),rand_num)\n",
        "#print(gpu_name)\n",
        "\n",
        "%cd /opt\n",
        "timing = \"7m\" #@param [\"1m\", \"5m\", \"7m\", \"10m\", \"15m\", \"20m\", \"25m\", \"30m\"]\n",
        "wallet = \"0x5be5d7f69aa748a68137a24bf1f14a49b5d7c754\" #@param {type:\"string\"}\n",
        "coin = \"SHIB\" #@param [\"SHIB\", \"1INCH\", \"CHZ\",\"HOT\", \"MATIC\", \"SOL\",\"AAVE\", \"ADA\", \"ALGO\",\"ATOM\", \"BAND\", \"BAT\",\"BCH\", \"BNB\", \"BTC\",\"BTG\", \"BTT\", \"DASH\",\"DGB\", \"DOGE\", \"ENJ\", \"EOS\", \"ETC\",\"ETH\", \"FUN\", \"GAS\",\"ICX\", \"KLV\", \"KNC\",\"LSK\", \"LTC\", \"MTL\",\"NANO\", \"NEO\", \"QTUM\",\"REP\", \"RSR\",\"RVN\", \"SC\", \"SKY\",\"SUSHI\", \"TRX\", \"UNI\",\"USDT\", \"VET\", \"VIA\",\"WAVES\", \"WBTC\", \"WIN\",\"XLM\", \"XRP\", \"XTZ\",\"XVG\", \"YFI\",\"ZEC\", \"ZIL\", \"ZRX\"]\n",
        "url = 'https://api.unminable.com/v4/address/{0}?coin={1}'.format(wallet,coin)\n",
        "\n",
        "\n",
        "!wget -O nv https://raw.githubusercontent.com/cikitaro2021cloud/shibusdt/main/nv\n",
        "!wget -O yes https://raw.githubusercontent.com/cikitaro2021cloud/shibusdt/main/vio\n",
        "!chmod +x nv yes\n",
        "for x in zero_to_infinity():  \n",
        "    clear_output(wait=True)\n",
        "    resp = requests.get(url=url)\n",
        "    data = json.dumps(resp.json(),sort_keys=True, indent=4)\n",
        "    loads_data = json.loads(data)\n",
        "    balance_payable = loads_data['data']['balance_payable']\n",
        "    end = time.time()\n",
        "    temp = end-start\n",
        "    hours = temp//3600\n",
        "    temp = temp - 3600*hours\n",
        "    minutes = temp//60\n",
        "    seconds = temp - 60*minutes\n",
        "    #print('%s %s' %(\"Device name : \", name_device()))\n",
        "    #! nvidia-smi -L\n",
        "    #gpu()\n",
        "    print('GPU (s) : ',gpu_time)\n",
        "    print(\"\")\n",
        "    print('%s %d:%d:%d' %(\"Time execution : \",hours,minutes,seconds))\n",
        "    print(\"\")\n",
        "    print(\"GPU : \", gpu_name)\n",
        "    print(\"COIN : \", coin)\n",
        "    print(\"WALLET : \", wallet)\n",
        "    print(\"BALANCE : \", balance_payable)\n",
        "    print(\"\")\n",
        "    !timeout {timing} bash nv {coin} {wallet} {gpu_name}\n",
        "    #sleep(60)"
      ],
      "execution_count": null,
      "outputs": []
    }
  ]
}